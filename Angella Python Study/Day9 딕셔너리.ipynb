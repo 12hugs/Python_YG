{
 "cells": [
  {
   "cell_type": "markdown",
   "id": "3885f8a8",
   "metadata": {},
   "source": [
    "### 1. 딕셔너리"
   ]
  },
  {
   "cell_type": "code",
   "execution_count": 11,
   "id": "170f1aaf",
   "metadata": {},
   "outputs": [
    {
     "name": "stdout",
     "output_type": "stream",
     "text": [
      "An error in a program that prevents the program from running as expected.\n",
      "\n",
      "\n",
      "{'Bug': 'An error in a program that prevents the program from running as expected.', 'Function': 'A piece of code that you can easily call over and over again.', 'Loop': '루프라는 새로운 딕셔너리 추가하기'}\n",
      "\n",
      "\n",
      "{'Bug': '영어말고 한국어로 다시 수정하기', 'Function': 'A piece of code that you can easily call over and over again.', 'Loop': '루프라는 새로운 딕셔너리 추가하기'}\n",
      "\n",
      "\n",
      "Bug\n",
      "영어말고 한국어로 다시 수정하기\n",
      "Function\n",
      "A piece of code that you can easily call over and over again.\n",
      "Loop\n",
      "루프라는 새로운 딕셔너리 추가하기\n"
     ]
    }
   ],
   "source": [
    "programing_dictionary = {\n",
    "    \"Bug\": \"An error in a program that prevents the program from running as expected.\",\n",
    "    \"Function\": \"A piece of code that you can easily call over and over again.\"\n",
    "}\n",
    "\n",
    "# 딕셔너리 출력하기\n",
    "print(programing_dictionary['Bug'], end='\\n\\n\\n')\n",
    "\n",
    "# 딕셔너리 추가하기\n",
    "programing_dictionary['Loop'] = '루프라는 새로운 딕셔너리 추가하기'\n",
    "print(programing_dictionary, end='\\n\\n\\n')\n",
    "\n",
    "# 비어있는 딕셔너리 새롭게 만들기\n",
    "empty_dictionary = {}\n",
    "\n",
    "# 기존에 존재하던 딕셔너리 지우기\n",
    "#programing_dictionary = {}\n",
    "#print(programing_dictionary, end='\\n\\n\\n') # 재할당을 했기 때문에 비어진 딕셔너리가 나옴\n",
    "\n",
    "# 딕셔너리 안의 값 수정하기\n",
    "programing_dictionary['Bug'] = '영어말고 한국어로 다시 수정하기'\n",
    "print(programing_dictionary, end='\\n\\n\\n')\n",
    "\n",
    "for thing in programing_dictionary:\n",
    "    print(thing) # key와 value가 모두 출력될 것 같지만 key값만 출력된다\n",
    "    # value값을 얻고 싶다면..\n",
    "    print(programing_dictionary[thing]) # 이와 같은 코드를 작성하면 된다"
   ]
  },
  {
   "cell_type": "code",
   "execution_count": 1,
   "id": "6b697ce8",
   "metadata": {},
   "outputs": [
    {
     "name": "stdout",
     "output_type": "stream",
     "text": [
      "{'Harry': 'Exceeds Expectation', 'Ron': 'Acceptable', 'Hermione': 'Outstanding', 'Draco': 'Acceptable', 'Neville': 'Fail'}\n"
     ]
    }
   ],
   "source": [
    "student_scores = {\n",
    "  \"Harry\": 81,\n",
    "  \"Ron\": 78,\n",
    "  \"Hermione\": 99, \n",
    "  \"Draco\": 74,\n",
    "  \"Neville\": 62,\n",
    "}\n",
    "# 🚨 위의 코드는 변경하지 마세요 👆\n",
    "\n",
    "# TODO-1: 비어 있는 딕셔너리 student_grades를 생성합니다.\n",
    "student_grades = {}\n",
    "\n",
    "# TODO-2: 아래에 코드를 작성하여 학생들의 성적을 student_grades에 추가합니다.👇\n",
    "for key in student_scores :\n",
    "    score = student_scores[key]\n",
    "    if score > 90 :\n",
    "        student_grades[key] = 'Outstanding'\n",
    "    elif score > 80 :\n",
    "        student_grades[key] = 'Exceeds Expectation'\n",
    "    elif score > 70 :\n",
    "        student_grades[key] = 'Acceptable'\n",
    "    else :\n",
    "        student_grades[key] = 'Fail'\n",
    "\n",
    "\n",
    "# 🚨 아래의 코드는 변경하지 마세요 👇\n",
    "print(student_grades)"
   ]
  },
  {
   "cell_type": "code",
   "execution_count": 35,
   "id": "315fa554",
   "metadata": {},
   "outputs": [
    {
     "data": {
      "text/plain": [
       "['나라이름',\n",
       " {'country': 'Germany',\n",
       "  'cotoes.visited': ['Berlin', 'Hambung', 'Stuttgart'],\n",
       "  'toral_visites': 5}]"
      ]
     },
     "execution_count": 35,
     "metadata": {},
     "output_type": "execute_result"
    }
   ],
   "source": [
    "capitals = {\n",
    "    \"France\" : 'Paris',\n",
    "    'Germany' : 'Berlin'\n",
    "}\n",
    "\n",
    "# 딕셔너리의 value값에 리스트 or 딕셔너리 넣기\n",
    "travel_log = { \n",
    "    'France' : {'cities_visited' : ['Paris', 'Lille','Dijon']}, \n",
    "    'Germany' : ['Berlin','Hambung','Stuttgart']\n",
    "} \n",
    "\n",
    "\n",
    "travel_log = [\n",
    "    {'country' : 'France',\n",
    "     'cities_visited' : ['France''Paris', 'Lille','Dijon'],\n",
    "     'toral_visites' : 12}, \n",
    "    {'country' : 'Germany', \n",
    "     'cotoes.visited':['Berlin','Hambung','Stuttgart'],\n",
    "     'toral_visites' : 5} \n",
    "]\n",
    "\n",
    "travel_log[0] = '나라이름'\n",
    "travel_log"
   ]
  },
  {
   "cell_type": "code",
   "execution_count": null,
   "id": "29036e8f",
   "metadata": {},
   "outputs": [],
   "source": [
    "travel_log = [\n",
    "{\n",
    "  \"country\": \"France\",\n",
    "  \"visits\": 12,\n",
    "  \"cities\": [\"Paris\", \"Lille\", \"Dijon\"]\n",
    "},\n",
    "{\n",
    "  \"country\": \"Germany\",\n",
    "  \"visits\": 5,\n",
    "  \"cities\": [\"Berlin\", \"Hamburg\", \"Stuttgart\"]\n",
    "},\n",
    "]\n",
    "#🚨 위의 코드를 수정하지 마세요\n",
    "\n",
    "#TODO: 새로운 나라를 travel_log에 추가할 수 있는 함수를 작성하세요. 👇\n",
    "\n",
    "\n",
    "\n",
    "#🚨 아래의 코드를 수정하지 마세요\n",
    "add_new_country(\"Russia\", 2, [\"Moscow\", \"Saint Petersburg\"])\n",
    "print(travel_log)"
   ]
  },
  {
   "cell_type": "code",
   "execution_count": null,
   "id": "7961cb56",
   "metadata": {},
   "outputs": [],
   "source": []
  },
  {
   "cell_type": "code",
   "execution_count": null,
   "id": "f7bbf8f6",
   "metadata": {},
   "outputs": [],
   "source": []
  },
  {
   "cell_type": "code",
   "execution_count": null,
   "id": "37f638bf",
   "metadata": {},
   "outputs": [],
   "source": []
  },
  {
   "cell_type": "code",
   "execution_count": null,
   "id": "15e25397",
   "metadata": {},
   "outputs": [],
   "source": []
  },
  {
   "cell_type": "code",
   "execution_count": null,
   "id": "616676ad",
   "metadata": {},
   "outputs": [],
   "source": []
  },
  {
   "cell_type": "code",
   "execution_count": null,
   "id": "a17a69ad",
   "metadata": {},
   "outputs": [],
   "source": []
  },
  {
   "cell_type": "code",
   "execution_count": null,
   "id": "38c01d28",
   "metadata": {},
   "outputs": [],
   "source": []
  },
  {
   "cell_type": "code",
   "execution_count": null,
   "id": "ae0347f1",
   "metadata": {},
   "outputs": [],
   "source": []
  },
  {
   "cell_type": "code",
   "execution_count": null,
   "id": "ed09b808",
   "metadata": {},
   "outputs": [],
   "source": []
  },
  {
   "cell_type": "code",
   "execution_count": null,
   "id": "a3f157e2",
   "metadata": {},
   "outputs": [],
   "source": []
  }
 ],
 "metadata": {
  "kernelspec": {
   "display_name": "Python 3 (ipykernel)",
   "language": "python",
   "name": "python3"
  },
  "language_info": {
   "codemirror_mode": {
    "name": "ipython",
    "version": 3
   },
   "file_extension": ".py",
   "mimetype": "text/x-python",
   "name": "python",
   "nbconvert_exporter": "python",
   "pygments_lexer": "ipython3",
   "version": "3.11.4"
  }
 },
 "nbformat": 4,
 "nbformat_minor": 5
}
