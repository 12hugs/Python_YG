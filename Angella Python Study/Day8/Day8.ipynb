{
 "cells": [
  {
   "cell_type": "code",
   "execution_count": 1,
   "id": "75165e7a",
   "metadata": {},
   "outputs": [],
   "source": [
    "def greet() :\n",
    "    print('hi')\n",
    "    print('hello')\n",
    "    print('good')"
   ]
  },
  {
   "cell_type": "code",
   "execution_count": 2,
   "id": "fb9b8eb2",
   "metadata": {},
   "outputs": [
    {
     "name": "stdout",
     "output_type": "stream",
     "text": [
      "hi\n",
      "hello\n",
      "good\n"
     ]
    }
   ],
   "source": [
    "greet()"
   ]
  },
  {
   "cell_type": "code",
   "execution_count": 6,
   "id": "c5910af6",
   "metadata": {},
   "outputs": [
    {
     "name": "stdout",
     "output_type": "stream",
     "text": [
      "hi 영준\n",
      "hello 영준\n",
      "good 영준\n"
     ]
    }
   ],
   "source": [
    "# 함수 안에 매개변수를 줌으로써 함수를 적재적소에 맞게 쓸 수 있다\n",
    "def greet_with_name(name):\n",
    "    print(f'hi {name}')\n",
    "    print(f'hello {name}')\n",
    "    print(f'good {name}')\n",
    "\n",
    "greet_with_name('영준')"
   ]
  },
  {
   "cell_type": "code",
   "execution_count": 11,
   "id": "e96ebf57",
   "metadata": {},
   "outputs": [
    {
     "name": "stdout",
     "output_type": "stream",
     "text": [
      "이름은 영준이고, 나이는 23입니다\n"
     ]
    }
   ],
   "source": [
    "def greet_with(name, age) :\n",
    "    print(f'이름은 {name}이고, 나이는 {age}입니다')\n",
    "greet_with(age=23, name='영준')"
   ]
  },
  {
   "cell_type": "markdown",
   "id": "83e46abe",
   "metadata": {},
   "source": [
    "### part2"
   ]
  },
  {
   "cell_type": "code",
   "execution_count": 23,
   "id": "498a2a6e",
   "metadata": {},
   "outputs": [
    {
     "name": "stdout",
     "output_type": "stream",
     "text": [
      "Height of wall : 7\n",
      "Width of wall : 13\n",
      "19\n"
     ]
    }
   ],
   "source": [
    "import math\n",
    "\n",
    "def paint_calc(height, width, cover):\n",
    "    print(math.ceil((height*width)/cover))\n",
    "    \n",
    "    \n",
    "test_h = int(input('Height of wall : '))\n",
    "test_w = int(input('Width of wall : '))\n",
    "coverage = 5\n",
    "paint_calc(height=test_h, width=test_w,cover=coverage)"
   ]
  },
  {
   "cell_type": "markdown",
   "id": "61235868",
   "metadata": {},
   "source": [
    "### part3"
   ]
  },
  {
   "cell_type": "code",
   "execution_count": 44,
   "id": "e24257d2",
   "metadata": {},
   "outputs": [
    {
     "name": "stdout",
     "output_type": "stream",
     "text": [
      "Check this number: 6\n",
      "6은 소수입니다\n"
     ]
    }
   ],
   "source": [
    "# 실습\n",
    "def prime_checker(number):\n",
    "    if (number == 2 or 3) :\n",
    "        print(f'{number}은 소수입니다')\n",
    "    elif not ((number%2)==0) :\n",
    "        if not ((number%3)==0) :\n",
    "            print(f'{number}은 소수입니다')\n",
    "        else :\n",
    "            print(f'{number}은 소수가 아닙니다')\n",
    "    else : \n",
    "        print(f'{number}은 소수가 아닙니다')\n",
    "\n",
    "n = int(input(\"Check this number: \"))\n",
    "\n",
    "prime_checker(number=n)\n",
    "\n",
    "# 결과가 원하는 답으로 나오지 않음"
   ]
  },
  {
   "cell_type": "code",
   "execution_count": 50,
   "id": "97b5d7a1",
   "metadata": {},
   "outputs": [
    {
     "name": "stdout",
     "output_type": "stream",
     "text": [
      "Check this number: 6\n",
      "6은 소수가 아닙니다.\n"
     ]
    }
   ],
   "source": [
    "# 해답\n",
    "def prime_checker(number):\n",
    "    is_prime = True\n",
    "    for i in range(2,number):\n",
    "        if number%i == 0:\n",
    "            is_prime = False\n",
    "    if is_prime == True:\n",
    "        print(f'{number}은 소수입니다.')\n",
    "    else :\n",
    "        print(f'{number}은 소수가 아닙니다.')\n",
    "    \n",
    "    \n",
    "n = int(input(\"Check this number: \"))\n",
    "\n",
    "prime_checker(number=n)"
   ]
  },
  {
   "cell_type": "markdown",
   "id": "bf3f4908",
   "metadata": {},
   "source": [
    "### part4 카이사르 암호"
   ]
  },
  {
   "cell_type": "code",
   "execution_count": 12,
   "id": "1a6841ac",
   "metadata": {
    "scrolled": true
   },
   "outputs": [
    {
     "name": "stdout",
     "output_type": "stream",
     "text": [
      "           \n",
      " ,adPPYba, ,adPPYYba,  ,adPPYba, ,adPPYba, ,adPPYYba, 8b,dPPYba,  \n",
      "a8\"     \"\" \"\"     `Y8 a8P_____88 I8[    \"\" \"\"     `Y8 88P'   \"Y8  \n",
      "8b         ,adPPPPP88 8PP\"  `\"Y8ba,  ,adPPPPP88 88          \n",
      "\"8a,   ,aa 88,    ,88 \"8b,   ,aa aa    ]8I 88,    ,88 88          \n",
      " `\"Ybbd8\"' `\"8bbdP\"Y8  `\"Ybbd8\"' `\"YbbdP\"' `\"8bbdP\"Y8 88   \n",
      "            88             88                                 \n",
      "           \"\"             88                                 \n",
      "                          88                                 \n",
      " ,adPPYba, 88 8b,dPPYba,  88,dPPYba,   ,adPPYba, 8b,dPPYba,  \n",
      "a8\"     \"\" 88 88P'    \"8a 88P'    \"8a a8P_____88 88P'   \"Y8  \n",
      "8b         88 88       d8 88       88 8PP\" 88          \n",
      "\"8a,   ,aa 88 88b,   ,a8\" 88       88 \"8b,   ,aa 88          \n",
      " `\"Ybbd8\"' 88 88`YbbdP\"'  88       88  `\"Ybbd8\"' 88          \n",
      "              88                                             \n",
      "              88           \n",
      "\n",
      "암호화하려면'encode'을 입력하시고, 메세지를 해독하려면'decode'를 입력해주세요:\n",
      "decode\n",
      "메세지를 입력하세요:\n",
      "break\n",
      "이동하실 칸 수를 정해주세요:\n",
      "99\n",
      "The decode text is gwjfp\n",
      "run again? (yes / no)no\n",
      "goodbye\n"
     ]
    }
   ],
   "source": [
    "logo = \"\"\"           \n",
    " ,adPPYba, ,adPPYYba,  ,adPPYba, ,adPPYba, ,adPPYYba, 8b,dPPYba,  \n",
    "a8\"     \"\" \"\"     `Y8 a8P_____88 I8[    \"\" \"\"     `Y8 88P'   \"Y8  \n",
    "8b         ,adPPPPP88 8PP\"\"\"\"\"\"\"  `\"Y8ba,  ,adPPPPP88 88          \n",
    "\"8a,   ,aa 88,    ,88 \"8b,   ,aa aa    ]8I 88,    ,88 88          \n",
    " `\"Ybbd8\"' `\"8bbdP\"Y8  `\"Ybbd8\"' `\"YbbdP\"' `\"8bbdP\"Y8 88   \n",
    "            88             88                                 \n",
    "           \"\"             88                                 \n",
    "                          88                                 \n",
    " ,adPPYba, 88 8b,dPPYba,  88,dPPYba,   ,adPPYba, 8b,dPPYba,  \n",
    "a8\"     \"\" 88 88P'    \"8a 88P'    \"8a a8P_____88 88P'   \"Y8  \n",
    "8b         88 88       d8 88       88 8PP\"\"\"\"\"\"\" 88          \n",
    "\"8a,   ,aa 88 88b,   ,a8\" 88       88 \"8b,   ,aa 88          \n",
    " `\"Ybbd8\"' 88 88`YbbdP\"'  88       88  `\"Ybbd8\"' 88          \n",
    "              88                                             \n",
    "              88           \n",
    "\"\"\"\n",
    "print(logo)\n",
    "alphabet = ['a', 'b', 'c', 'd', 'e', 'f', 'g', 'h', 'i', 'j', 'k', 'l', 'm', 'n', 'o', 'p', 'q', 'r', 's', 't', 'u', 'v', 'w', 'x', 'y', 'z'\n",
    "            ,'a', 'b', 'c', 'd', 'e', 'f', 'g', 'h', 'i', 'j', 'k', 'l', 'm', 'n', 'o', 'p', 'q', 'r', 's', 't', 'u', 'v', 'w', 'x', 'y', 'z']\n",
    "\n",
    "\n",
    "\n",
    "#TODO-2: 'encrypt' 함수 내부에서는 'text'의 각 문자를 'shift' 값만큼 알파벳 상에서 \n",
    "#앞으로 이동시켜 암호화된 텍스트를 출력합니다.\n",
    "#예:\n",
    "#plain_text = \"hello\"\n",
    "#shift = 5\n",
    "#cipher_text = \"mjqqt\"\n",
    "#출력: \"The encoded text is mjqqt\"\n",
    "\n",
    "def caesar(start_text, shift_amount, cipher_direction) :\n",
    "    end_text = \"\"\n",
    "    if cipher_direction == 'decode' : # 만약 docode라면 shift를 음수로 바꿔라\n",
    "        shift_amount *= -1\n",
    "    for letter in start_text :\n",
    "        if letter in alphabet :\n",
    "            position = alphabet.index(letter)\n",
    "            new_position = position + shift_amount\n",
    "            new_letter = alphabet[new_position]\n",
    "            end_text += new_letter\n",
    "        else :\n",
    "            end_text += letter\n",
    "    print(f'The {cipher_direction} text is {end_text}')\n",
    "    \n",
    "while(True) :\n",
    "    direction = input(\"암호화하려면'encode'을 입력하시고, 메세지를 해독하려면'decode'를 입력해주세요:\\n\")\n",
    "    text = input(\"메세지를 입력하세요:\\n\").lower()\n",
    "    shift = int(input(\"이동하실 칸 수를 정해주세요:\\n\"))\n",
    "\n",
    "    shift = shift%26 # 만약 100이상의 큰 수를 입력하더라도 코드에 이상이 없게 해주는 로직    \n",
    "\n",
    "    caesar(text,shift,direction)\n",
    "    answer = input('run again? (yes / no)').lower()\n",
    "    if answer == 'no' :\n",
    "        print('goodbye')\n",
    "        break"
   ]
  },
  {
   "cell_type": "code",
   "execution_count": null,
   "id": "b691965e",
   "metadata": {},
   "outputs": [],
   "source": []
  },
  {
   "cell_type": "code",
   "execution_count": null,
   "id": "637b5025",
   "metadata": {},
   "outputs": [],
   "source": []
  },
  {
   "cell_type": "code",
   "execution_count": null,
   "id": "a4777933",
   "metadata": {},
   "outputs": [],
   "source": []
  },
  {
   "cell_type": "code",
   "execution_count": null,
   "id": "8ceafc0e",
   "metadata": {},
   "outputs": [],
   "source": []
  },
  {
   "cell_type": "code",
   "execution_count": null,
   "id": "f73476bf",
   "metadata": {},
   "outputs": [],
   "source": []
  }
 ],
 "metadata": {
  "kernelspec": {
   "display_name": "Python 3 (ipykernel)",
   "language": "python",
   "name": "python3"
  },
  "language_info": {
   "codemirror_mode": {
    "name": "ipython",
    "version": 3
   },
   "file_extension": ".py",
   "mimetype": "text/x-python",
   "name": "python",
   "nbconvert_exporter": "python",
   "pygments_lexer": "ipython3",
   "version": "3.11.4"
  }
 },
 "nbformat": 4,
 "nbformat_minor": 5
}
