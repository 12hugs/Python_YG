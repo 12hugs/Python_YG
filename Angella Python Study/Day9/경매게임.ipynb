{
 "cells": [
  {
   "cell_type": "markdown",
   "id": "c2bf2061",
   "metadata": {},
   "source": [
    "### 경매게임"
   ]
  },
  {
   "cell_type": "code",
   "execution_count": 56,
   "id": "55043638",
   "metadata": {},
   "outputs": [
    {
     "name": "stdout",
     "output_type": "stream",
     "text": [
      "낙찰자는 wls이고 낙찰금은 2입니다\n"
     ]
    }
   ],
   "source": [
    "from IPython.display import clear_output \n",
    "import art\n",
    "\n",
    "name_price = {}\n",
    "\n",
    "print(art.logo)\n",
    "print('어서오세요. 프라이빗 경매 프로그램에 오신 걸 환영합니다')\n",
    "\n",
    "def high_people(bidding_record) :\n",
    "    high_price = 0\n",
    "    winner = \"\"\n",
    "    for people in bidding_record :\n",
    "        price_list = []\n",
    "        price_list.append(bidding_record[people])\n",
    "        high_price = max(price_list)\n",
    "        if high_price == bidding_record[people] :\n",
    "            winner = people\n",
    "    print(f'낙찰자는 {winner}이고 낙찰금은 {high_price}입니다') \n",
    "    \n",
    "while(True) :\n",
    "    name = str(input('이름을 입력해주세요 : '))\n",
    "    price = int(input('낙찰하실 금액을 입력해주세요 : $'))\n",
    "    name_price[name] = price\n",
    "    progress = str(input('다른 낙찰자가 있나요? (yes / no)'))\n",
    "            \n",
    "    clear_output()\n",
    "    if progress == 'no' :\n",
    "        break\n",
    "    else :\n",
    "        clear_output()\n",
    "        \n",
    "high_people(name_price)    "
   ]
  },
  {
   "cell_type": "code",
   "execution_count": null,
   "id": "ffcccc3d",
   "metadata": {},
   "outputs": [],
   "source": []
  }
 ],
 "metadata": {
  "kernelspec": {
   "display_name": "Python 3 (ipykernel)",
   "language": "python",
   "name": "python3"
  },
  "language_info": {
   "codemirror_mode": {
    "name": "ipython",
    "version": 3
   },
   "file_extension": ".py",
   "mimetype": "text/x-python",
   "name": "python",
   "nbconvert_exporter": "python",
   "pygments_lexer": "ipython3",
   "version": "3.11.3"
  }
 },
 "nbformat": 4,
 "nbformat_minor": 5
}
