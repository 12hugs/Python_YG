{
 "cells": [
  {
   "cell_type": "code",
   "execution_count": null,
   "id": "b65dd3bf",
   "metadata": {},
   "outputs": [
    {
     "name": "stdout",
     "output_type": "stream",
     "text": [
      "첫 번째 숫자를 입력하세요 : 5\n",
      "+ - * / \n",
      "기호를 고르세요+\n",
      "두 번째 숫자를 입력하세요 : 6\n",
      "5 + 6 = 11\n",
      "계속 계산을 하려면 Y, 새로운 계산을 하려면 N을 입력하세요 Y/NN\n",
      "첫 번째 숫자를 입력하세요 : 7\n",
      "+ - * / \n",
      "기호를 고르세요*\n",
      "두 번째 숫자를 입력하세요 : 2\n",
      "7 * 2 = 14\n"
     ]
    }
   ],
   "source": [
    "def plus(n1, n2) :\n",
    "    return n1 + n2\n",
    "\n",
    "def minus(n1, n2) :\n",
    "    return n1 - n2\n",
    "\n",
    "def multiply(n1, n2) :\n",
    "    return n1 * n2\n",
    "\n",
    "def divide(n1, n2) :\n",
    "    return n1 / n2\n",
    "\n",
    "dic = {\n",
    "    '+':plus, \n",
    "    '-':minus, \n",
    "    '*':multiply, \n",
    "    '/':divide\n",
    "}\n",
    "\n",
    "def calculation() :\n",
    "    num1 = int(input('첫 번째 숫자를 입력하세요 : '))\n",
    "    for symbol in dic :\n",
    "        print(symbol, end=' ')\n",
    "    print()\n",
    "\n",
    "    while(True) :\n",
    "        dic_symbol = input('기호를 고르세요')\n",
    "        num2 = int(input('두 번째 숫자를 입력하세요 : '))\n",
    "        answer = dic[dic_symbol](num1, num2)\n",
    "        print(f'{num1} {dic_symbol} {num2} = {answer}')\n",
    "\n",
    "        if input('계속 계산을 하려면 Y, 새로운 계산을 하려면 N을 입력하세요 Y/N') == 'Y' :\n",
    "            num1 = answer\n",
    "        else :\n",
    "            calculation()\n",
    "            break\n",
    "            \n",
    "            \n",
    "calculation()"
   ]
  },
  {
   "cell_type": "markdown",
   "id": "db0462f2",
   "metadata": {},
   "source": [
    "- 함수에 print 대신에 return을 사용하는 이유\n",
    "- 다른 곳에서 재사용성이 떨어진다.(출력문을 반환하기 때문에 연산에 있어서는 return보다 제약되는 조건이 많기 때문이다)"
   ]
  },
  {
   "cell_type": "code",
   "execution_count": null,
   "id": "2149caf5",
   "metadata": {},
   "outputs": [],
   "source": []
  }
 ],
 "metadata": {
  "kernelspec": {
   "display_name": "Python 3 (ipykernel)",
   "language": "python",
   "name": "python3"
  },
  "language_info": {
   "codemirror_mode": {
    "name": "ipython",
    "version": 3
   },
   "file_extension": ".py",
   "mimetype": "text/x-python",
   "name": "python",
   "nbconvert_exporter": "python",
   "pygments_lexer": "ipython3",
   "version": "3.11.4"
  }
 },
 "nbformat": 4,
 "nbformat_minor": 5
}
