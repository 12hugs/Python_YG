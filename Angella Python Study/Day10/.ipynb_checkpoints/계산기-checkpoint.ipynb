{
 "cells": [
  {
   "cell_type": "code",
   "execution_count": 10,
   "id": "bc4aa10b",
   "metadata": {},
   "outputs": [
    {
     "name": "stdout",
     "output_type": "stream",
     "text": [
      "Jin Young Jun\n"
     ]
    },
    {
     "data": {
      "text/plain": [
       "12"
      ]
     },
     "execution_count": 10,
     "metadata": {},
     "output_type": "execute_result"
    }
   ],
   "source": [
    "# title() str데이터타입의 맨 앞 글자를 대문자로 만들어주는 함수\n",
    "# 내가 설정한 함수의 끝은 return이다. 즉, return이 실행되면 함수는 종료된다.\n",
    "def format_name(f_name, l_name) :\n",
    "    formated_f_name = f_name.title()\n",
    "    formated_l_name = l_name.title()\n",
    "    return f'{formated_f_name} {formated_l_name}'\n",
    "print(format_name('jin','yOUng JuN'))\n",
    "\n"
   ]
  },
  {
   "cell_type": "code",
   "execution_count": null,
   "id": "403f82c7",
   "metadata": {},
   "outputs": [],
   "source": [
    "def is_leap(year):\n",
    "  if year % 4 == 0: # 모든 년도를 4로 나눴을 때 0이 된다면 \"윤년\"이 된다.\n",
    "    if year % 100 == 0:\n",
    "      if year % 400 == 0:\n",
    "        print(\"윤년입니다.\")\n",
    "      else:\n",
    "        print(\"윤년이 아닙니다.\")\n",
    "    else:\n",
    "      print(\"윤년입니다.\")\n",
    "  else:\n",
    "    print(\"윤년이 아닙니다.\")\n",
    "\n",
    "def days_in_month():\n",
    "  month_days = [31, 28, 31, 30, 31, 30, 31, 31, 30, 31, 30, 31]  \n",
    "  \n",
    "  \n",
    "#🚨 아래 코드는 절대 변경하지 마세요 \n",
    "year = int(input(\"년도를 입력하세요: \"))\n",
    "month = int(input(\"월을 입력하세요: \"))\n",
    "days = days_in_month(year, month)\n",
    "print(days)"
   ]
  },
  {
   "cell_type": "code",
   "execution_count": null,
   "id": "85a09c38",
   "metadata": {},
   "outputs": [],
   "source": []
  },
  {
   "cell_type": "code",
   "execution_count": null,
   "id": "9b928cec",
   "metadata": {},
   "outputs": [],
   "source": []
  },
  {
   "cell_type": "code",
   "execution_count": null,
   "id": "d91988af",
   "metadata": {},
   "outputs": [],
   "source": []
  },
  {
   "cell_type": "code",
   "execution_count": null,
   "id": "bf7f1919",
   "metadata": {},
   "outputs": [],
   "source": []
  },
  {
   "cell_type": "code",
   "execution_count": null,
   "id": "2daae2dd",
   "metadata": {},
   "outputs": [],
   "source": []
  },
  {
   "cell_type": "code",
   "execution_count": null,
   "id": "b65b9905",
   "metadata": {},
   "outputs": [],
   "source": []
  }
 ],
 "metadata": {
  "kernelspec": {
   "display_name": "Python 3 (ipykernel)",
   "language": "python",
   "name": "python3"
  },
  "language_info": {
   "codemirror_mode": {
    "name": "ipython",
    "version": 3
   },
   "file_extension": ".py",
   "mimetype": "text/x-python",
   "name": "python",
   "nbconvert_exporter": "python",
   "pygments_lexer": "ipython3",
   "version": "3.11.3"
  }
 },
 "nbformat": 4,
 "nbformat_minor": 5
}
