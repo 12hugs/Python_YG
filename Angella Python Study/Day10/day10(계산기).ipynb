{
 "cells": [
  {
   "cell_type": "code",
   "execution_count": null,
   "id": "6ee3b86b",
   "metadata": {},
   "outputs": [],
   "source": [
    "# title() str데이터타입의 맨 앞 글자를 대문자로 만들어주는 함수\n",
    "\n",
    "# 내가 설정한 함수의 끝은 return이다. 즉, return이 실행되면 함수는 종료된다.\n",
    "\n",
    "\n",
    "def format_name(f_name, l_name) :\n",
    "    \"\"\"first name and last name 을 적어주시면 이름이 자동으로 포멧되는 함수입니다.\"\"\"\n",
    "    formated_f_name = f_name.title()\n",
    "    formated_l_name = l_name.title()\n",
    "    return f'{formated_f_name} {formated_l_name}'\n",
    "print(format_name('jin','yOUng JuN'))\n",
    "\n"
   ]
  },
  {
   "cell_type": "code",
   "execution_count": null,
   "id": "a90bc73c",
   "metadata": {},
   "outputs": [],
   "source": [
    "def is_leap(year):\n",
    "  if year % 4 == 0: # 모든 년도를 4로 나눴을 때 0이 된다면 \"윤년\"이 된다.\n",
    "    if year % 100 == 0:\n",
    "      if year % 400 == 0:\n",
    "        return True\n",
    "      else:\n",
    "        return False\n",
    "    else:\n",
    "        return True\n",
    "  else:\n",
    "    return False\n",
    "    \n",
    "def days_in_month(year,month):\n",
    "    month_days = [31, 28, 31, 30, 31, 30, 31, 31, 30, 31, 30, 31]  \n",
    "    \n",
    "    if is_leap(year) and month == 2 :\n",
    "        return 29\n",
    "    return month_days[month-1]\n",
    "        \n",
    "  \n",
    "  \n",
    "#🚨 아래 코드는 절대 변경하지 마세요 \n",
    "year = int(input(\"년도를 입력하세요: \"))\n",
    "month = int(input(\"월을 입력하세요: \"))\n",
    "days = days_in_month(year, month)\n",
    "print(days)"
   ]
  },
  {
   "cell_type": "code",
   "execution_count": null,
   "id": "b65dd3bf",
   "metadata": {},
   "outputs": [
    {
     "name": "stdout",
     "output_type": "stream",
     "text": [
      "\n",
      " _____________________\n",
      "|  _________________  |\n",
      "| | Pythonista   0. | |  .----------------.  .----------------.  .----------------.  .----------------. \n",
      "| |_________________| | | .--------------. || .--------------. || .--------------. || .--------------. |\n",
      "|  ___ ___ ___   ___  | | |     ______   | || |      __      | || |   _____      | || |     ______   | |\n",
      "| | 7 | 8 | 9 | | + | | | |   .' ___  |  | || |     /  \\     | || |  |_   _|     | || |   .' ___  |  | |\n",
      "| |___|___|___| |___| | | |  / .'   \\_|  | || |    / /\\ \\    | || |    | |       | || |  / .'   \\_|  | |\n",
      "| | 4 | 5 | 6 | | - | | | |  | |         | || |   / ____ \\   | || |    | |   _   | || |  | |         | |\n",
      "| |___|___|___| |___| | | |  \\ `.___.'\\  | || | _/ /    \\ \\_ | || |   _| |__/ |  | || |  \\ `.___.'\\  | |\n",
      "| | 1 | 2 | 3 | | x | | | |   `._____.'  | || ||____|  |____|| || |  |________|  | || |   `._____.'  | |\n",
      "| |___|___|___| |___| | | |              | || |              | || |              | || |              | |\n",
      "| | . | 0 | = | | / | | | '--------------' || '--------------' || '--------------' || '--------------' |\n",
      "| |___|___|___| |___| |  '----------------'  '----------------'  '----------------'  '----------------' \n",
      "|_____________________|\n",
      "\n",
      "첫 번째 숫자를 입력하세요 : 4.5\n",
      "+ - * / \n",
      "기호를 고르세요+\n",
      "두 번째 숫자를 입력하세요 : 5.5\n",
      "4.5 + 5.5 = 10.0\n"
     ]
    }
   ],
   "source": [
    "from art import logo\n",
    "\n",
    "def plus(n1, n2) :\n",
    "    return n1 + n2\n",
    "\n",
    "def minus(n1, n2) :\n",
    "    return n1 - n2\n",
    "\n",
    "def multiply(n1, n2) :\n",
    "    return n1 * n2\n",
    "\n",
    "def divide(n1, n2) :\n",
    "    return n1 / n2\n",
    "\n",
    "dic = {\n",
    "    '+':plus, \n",
    "    '-':minus, \n",
    "    '*':multiply, \n",
    "    '/':divide\n",
    "}\n",
    "\n",
    "def calculation() :\n",
    "    num1 = float(input('첫 번째 숫자를 입력하세요 : '))\n",
    "    for symbol in dic :\n",
    "        print(symbol, end=' ')\n",
    "    print()\n",
    "\n",
    "    while(True) :\n",
    "        dic_symbol = input('기호를 고르세요')\n",
    "        num2 = float(input('두 번째 숫자를 입력하세요 : '))\n",
    "        answer = dic[dic_symbol](num1, num2)\n",
    "        print(f'{num1} {dic_symbol} {num2} = {answer}')\n",
    "\n",
    "        if input('계속 계산을 하려면 Y, 새로운 계산을 하려면 N을 입력하세요 Y/N') == 'Y' :\n",
    "            num1 = answer\n",
    "        else :\n",
    "            calculation()\n",
    "            break\n",
    "            \n",
    "print(logo)   \n",
    "calculation()"
   ]
  },
  {
   "cell_type": "markdown",
   "id": "db0462f2",
   "metadata": {},
   "source": [
    "- 함수에 print 대신에 return을 사용하는 이유\n",
    "- 다른 곳에서 재사용성이 떨어진다.(출력문을 반환하기 때문에 연산에 있어서는 return보다 제약되는 조건이 많기 때문이다)"
   ]
  },
  {
   "cell_type": "code",
   "execution_count": 2,
   "id": "2149caf5",
   "metadata": {},
   "outputs": [
    {
     "ename": "ModuleNotFoundError",
     "evalue": "No module named 'Tensorflow'",
     "output_type": "error",
     "traceback": [
      "\u001b[1;31m---------------------------------------------------------------------------\u001b[0m",
      "\u001b[1;31mModuleNotFoundError\u001b[0m                       Traceback (most recent call last)",
      "Cell \u001b[1;32mIn[2], line 1\u001b[0m\n\u001b[1;32m----> 1\u001b[0m \u001b[38;5;28;01mimport\u001b[39;00m \u001b[38;5;21;01mTensorflow\u001b[39;00m \u001b[38;5;28;01mas\u001b[39;00m \u001b[38;5;21;01mtf\u001b[39;00m\n",
      "\u001b[1;31mModuleNotFoundError\u001b[0m: No module named 'Tensorflow'"
     ]
    }
   ],
   "source": []
  },
  {
   "cell_type": "code",
   "execution_count": null,
   "id": "48c99981",
   "metadata": {},
   "outputs": [],
   "source": []
  }
 ],
 "metadata": {
  "kernelspec": {
   "display_name": "Python 3 (ipykernel)",
   "language": "python",
   "name": "python3"
  },
  "language_info": {
   "codemirror_mode": {
    "name": "ipython",
    "version": 3
   },
   "file_extension": ".py",
   "mimetype": "text/x-python",
   "name": "python",
   "nbconvert_exporter": "python",
   "pygments_lexer": "ipython3",
   "version": "3.11.3"
  }
 },
 "nbformat": 4,
 "nbformat_minor": 5
}
