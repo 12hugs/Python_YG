{
 "cells": [
  {
   "cell_type": "code",
   "execution_count": null,
   "id": "d2349cde",
   "metadata": {},
   "outputs": [],
   "source": [
    "word_list = ['ardvark']"
   ]
  },
  {
   "cell_type": "code",
   "execution_count": null,
   "id": "4952e062",
   "metadata": {},
   "outputs": [],
   "source": [
    "import random as rd"
   ]
  },
  {
   "cell_type": "code",
   "execution_count": null,
   "id": "dbd55e27",
   "metadata": {},
   "outputs": [],
   "source": [
    "word = rd.choice(word_list)\n",
    "word"
   ]
  },
  {
   "cell_type": "code",
   "execution_count": null,
   "id": "ba92975d",
   "metadata": {},
   "outputs": [],
   "source": [
    "# word = rd.choice(word_list)\n",
    "# list_word = word\n",
    "\n",
    "# sucess = 0\n",
    "# life = len(list_word)\n",
    "\n",
    "# while(True) :\n",
    "#     guess = input('Guess a letter : ').lower()\n",
    "    \n",
    "#     if guess in list_word :\n",
    "#         sucess+=1\n",
    "#         print('cool')\n",
    "#     else :\n",
    "#         life-=1\n",
    "#         print('bad')\n",
    "#     if sucess == int(len(list_word)) :\n",
    "#         print('you are good')\n",
    "#         break\n",
    "#     if life == 0 :\n",
    "#         print('you are dead')\n",
    "#         break\n",
    "    \n",
    "# .lower() : 대문자를 소문자로 바꿔주는 함수"
   ]
  },
  {
   "cell_type": "code",
   "execution_count": null,
   "id": "9ace2c92",
   "metadata": {},
   "outputs": [],
   "source": [
    "import hangman_words as hmw\n",
    "import hangman_art as hma"
   ]
  },
  {
   "cell_type": "code",
   "execution_count": null,
   "id": "76c8c41e",
   "metadata": {},
   "outputs": [
    {
     "name": "stdout",
     "output_type": "stream",
     "text": [
      " \n",
      " _                                             \n",
      "| |                                            \n",
      "| |__   __ _ _ __   __ _ _ __ ___   __ _ _ __  \n",
      "| '_ \\ / _` | '_ \\ / _` | '_ ` _ \\ / _` | '_ \\ \n",
      "| | | | (_| | | | | (_| | | | | | | (_| | | | |\n",
      "|_| |_|\\__,_|_| |_|\\__, |_| |_| |_|\\__,_|_| |_|\n",
      "                    __/ |                      \n",
      "                   |___/    \n",
      "cobweb\n",
      "['_', '_', '_', '_', '_', '_']\n",
      "\n",
      "Guess a letter : a\n",
      "['_', '_', '_', '_', '_', '_']\n",
      "life :  5\n",
      "\n",
      "\n",
      "  +---+\n",
      "  |   |\n",
      "  O   |\n",
      "      |\n",
      "      |\n",
      "      |\n",
      "=========\n",
      "\n",
      "Guess a letter : b\n",
      "['_', '_', 'b', '_', '_', 'b']\n",
      "life :  5\n",
      "\n",
      "\n",
      "  +---+\n",
      "  |   |\n",
      "  O   |\n",
      "      |\n",
      "      |\n",
      "      |\n",
      "=========\n",
      "\n"
     ]
    }
   ],
   "source": [
    "word = rd.choice(hmw.word_list)\n",
    "display = []\n",
    "lives = 6\n",
    "print(hma.logo)\n",
    "for letter in word :\n",
    "    display+=\"_\"\n",
    "print(word)\n",
    "print(display, end='\\n\\n')\n",
    "\n",
    "while(True):\n",
    "    # input 로직\n",
    "    guess = input('Guess a letter : ').lower()\n",
    "    \n",
    "    # 성공로직\n",
    "    for i in range(len(word)) :\n",
    "        letter = word[i]\n",
    "        if letter == guess :\n",
    "            display[i] = letter\n",
    "            \n",
    "    # 실패로직\n",
    "    if not guess in word :\n",
    "        lives-=1\n",
    "        \n",
    "    # output 로직\n",
    "    print(display)\n",
    "    print('life : ',lives, end=\"\\n\\n\")\n",
    "    print(hma.stages[lives])\n",
    "    \n",
    "    # 게임결과\n",
    "    if not \"_\" in display :\n",
    "        print('you win')\n",
    "        break\n",
    "    if lives == 0 :\n",
    "        print('you lose')\n",
    "        break"
   ]
  },
  {
   "cell_type": "code",
   "execution_count": null,
   "id": "1a31f40c",
   "metadata": {},
   "outputs": [],
   "source": []
  },
  {
   "cell_type": "code",
   "execution_count": null,
   "id": "3af8a295",
   "metadata": {},
   "outputs": [],
   "source": []
  },
  {
   "cell_type": "code",
   "execution_count": null,
   "id": "f7909240",
   "metadata": {},
   "outputs": [],
   "source": []
  },
  {
   "cell_type": "code",
   "execution_count": null,
   "id": "1da461b9",
   "metadata": {},
   "outputs": [],
   "source": []
  },
  {
   "cell_type": "code",
   "execution_count": null,
   "id": "fbf5f186",
   "metadata": {},
   "outputs": [],
   "source": []
  },
  {
   "cell_type": "code",
   "execution_count": null,
   "id": "d1314d9b",
   "metadata": {},
   "outputs": [],
   "source": []
  },
  {
   "cell_type": "code",
   "execution_count": null,
   "id": "9bd7e94f",
   "metadata": {},
   "outputs": [],
   "source": []
  },
  {
   "cell_type": "code",
   "execution_count": null,
   "id": "678ea247",
   "metadata": {},
   "outputs": [],
   "source": []
  },
  {
   "cell_type": "code",
   "execution_count": null,
   "id": "001cefac",
   "metadata": {},
   "outputs": [],
   "source": []
  }
 ],
 "metadata": {
  "kernelspec": {
   "display_name": "Python 3 (ipykernel)",
   "language": "python",
   "name": "python3"
  },
  "language_info": {
   "codemirror_mode": {
    "name": "ipython",
    "version": 3
   },
   "file_extension": ".py",
   "mimetype": "text/x-python",
   "name": "python",
   "nbconvert_exporter": "python",
   "pygments_lexer": "ipython3",
   "version": "3.11.4"
  }
 },
 "nbformat": 4,
 "nbformat_minor": 5
}
