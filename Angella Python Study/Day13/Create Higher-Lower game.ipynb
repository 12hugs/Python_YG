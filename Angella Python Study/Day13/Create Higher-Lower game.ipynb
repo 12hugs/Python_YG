{
 "cells": [
  {
   "cell_type": "code",
   "execution_count": 19,
   "id": "03aca54c",
   "metadata": {},
   "outputs": [],
   "source": [
    "import art\n",
    "import random as rd\n",
    "from IPython.display import clear_output as clear\n",
    "from data import data"
   ]
  },
  {
   "cell_type": "code",
   "execution_count": 77,
   "id": "9b5da8cb",
   "metadata": {},
   "outputs": [
    {
     "name": "stdout",
     "output_type": "stream",
     "text": [
      "Compare A : NASA, a Space agency, from Space agency\n",
      "\n",
      " _    __    \n",
      "| |  / /____\n",
      "| | / / ___/\n",
      "| |/ (__  ) \n",
      "|___/____(_)\n",
      "\n",
      "Against B : Neymar, a Footballer, from Footballer\n",
      "A : 56\n",
      "B : 138\n",
      "누가 더 팔로워 수가 많을까요? ('A' or 'B')A\n",
      "틀렸습니다....  맞춘 문제 갯수 : 5개\n"
     ]
    }
   ],
   "source": [
    "# 중복이 없는 랜덤한 plint문\n",
    "def question(data, num) :\n",
    "    name = data[num]['name']\n",
    "    jab = data[num]['description']\n",
    "    country = data[num]['description']\n",
    "    print(f\"{name}, a {jab}, from {country}\")\n",
    "\n",
    "# 맞춘 갯수를 카운트 할 변수\n",
    "cnt = 0\n",
    "\n",
    "print(art.logo)\n",
    "while(True) :\n",
    "    # 중복되지 않은 랜덤한 숫자 2개 뽑기\n",
    "    rd_num = rd.sample(range(len(data)),2)\n",
    "    cp_num = rd_num[0]\n",
    "    ag_num = rd_num[1]\n",
    "    \n",
    "    # 팔로워 수를 변수에 담음\n",
    "    cp_score = int(data[cp_num]['follower_count'])\n",
    "    ag_score = int(data[ag_num]['follower_count'])\n",
    "    \n",
    "    # A에 해당하는 질문\n",
    "    print(f\"Compare A : {question(data, cp_num)}\")\n",
    "    \n",
    "    # vs 아스키아트\n",
    "    print(art.vs)\n",
    "    \n",
    "    # B에 해당하는 질문\n",
    "    print(f\"Against B : {question(data, ag_num)}\")\n",
    "    \n",
    "    \n",
    "    print(f\"A : {cp_score}\")\n",
    "    print(f\"B : {ag_score}\")\n",
    "    \n",
    "    # 팔로우 수 판별 로직\n",
    "    if input(\"누가 더 팔로워 수가 많을까요? ('A' or 'B')\") == 'A' :\n",
    "        if cp_score > ag_score :\n",
    "            cnt += 1\n",
    "            print(f\"정답 !!  현재까지 맞춘 문제 갯수 : {cnt}\")\n",
    "        else :\n",
    "            print(f\"틀렸습니다....  맞춘 문제 갯수 : {cnt}개\")\n",
    "            break\n",
    "    else :\n",
    "        if cp_score < ag_score :\n",
    "            cnt += 1\n",
    "            print(f\"정답 !!  현재까지 맞춘 문제 갯수 : {cnt}\")\n",
    "        else :\n",
    "            print(f\"틀렸습니다....  맞춘 문제 갯수 : {cnt}개\")\n",
    "            break\n",
    "        \n",
    "    # 앞의 프린터 문을 지워주는 로직\n",
    "    if input(\"다음 문제 (Y/N)\") == 'Y' :\n",
    "        clear(wait=True)"
   ]
  },
  {
   "cell_type": "code",
   "execution_count": null,
   "id": "21094fb2",
   "metadata": {},
   "outputs": [],
   "source": []
  }
 ],
 "metadata": {
  "kernelspec": {
   "display_name": "Python 3 (ipykernel)",
   "language": "python",
   "name": "python3"
  },
  "language_info": {
   "codemirror_mode": {
    "name": "ipython",
    "version": 3
   },
   "file_extension": ".py",
   "mimetype": "text/x-python",
   "name": "python",
   "nbconvert_exporter": "python",
   "pygments_lexer": "ipython3",
   "version": "3.11.4"
  }
 },
 "nbformat": 4,
 "nbformat_minor": 5
}
