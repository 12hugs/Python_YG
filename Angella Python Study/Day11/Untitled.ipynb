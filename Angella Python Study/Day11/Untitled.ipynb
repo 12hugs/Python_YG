{
 "cells": [
  {
   "cell_type": "code",
   "execution_count": null,
   "id": "9391fe82",
   "metadata": {},
   "outputs": [
    {
     "name": "stdout",
     "output_type": "stream",
     "text": [
      "\n",
      ".------.            _     _            _    _            _    \n",
      "|A_  _ |.          | |   | |          | |  (_)          | |   \n",
      "|( \\/ ).-----.     | |__ | | __ _  ___| | ___  __ _  ___| | __\n",
      "| \\  /|K /\\  |     | '_ \\| |/ _` |/ __| |/ / |/ _` |/ __| |/ /\n",
      "|  \\/ | /  \\ |     | |_) | | (_| | (__|   <| | (_| | (__|   < \n",
      "`-----| \\  / |     |_.__/|_|\\__,_|\\___|_|\\_\\ |\\__,_|\\___|_|\\_\\\n",
      "      |  \\/ K|                            _/ |                \n",
      "      `------'                           |__/           \n",
      "\n",
      "당신의 카드 : [4,6], 현재 스코어 : 10\n",
      "컴퓨터의 첫 번째 카드 10\n",
      "\"Y\"를 입력하시면 새로운 카드를 받고 \"N\"을 입력하시면 이번 턴은 패스합니다.Y\n",
      "[4, 6, 5]\n",
      "당신의 카드 : [4,6], 현재 스코어 : 15\n",
      "컴퓨터의 첫 번째 카드 10\n",
      "\"Y\"를 입력하시면 새로운 카드를 받고 \"N\"을 입력하시면 이번 턴은 패스합니다.Y\n",
      "[4, 6, 5, 7]\n",
      "당신의 카드 : [4,6], 현재 스코어 : 22\n",
      "컴퓨터의 첫 번째 카드 10\n",
      "\"Y\"를 입력하시면 새로운 카드를 받고 \"N\"을 입력하시면 이번 턴은 패스합니다.Y\n",
      "[4, 6, 5, 7, 5]\n",
      "당신의 카드 : [4,6], 현재 스코어 : 27\n",
      "컴퓨터의 첫 번째 카드 10\n",
      "\"Y\"를 입력하시면 새로운 카드를 받고 \"N\"을 입력하시면 이번 턴은 패스합니다.Y\n",
      "[4, 6, 5, 7, 5, 10]\n",
      "당신의 카드 : [4,6], 현재 스코어 : 37\n",
      "컴퓨터의 첫 번째 카드 10\n",
      "\"Y\"를 입력하시면 새로운 카드를 받고 \"N\"을 입력하시면 이번 턴은 패스합니다.Y\n",
      "[4, 6, 5, 7, 5, 10, 11]\n",
      "당신의 카드 : [4,6], 현재 스코어 : 48\n",
      "컴퓨터의 첫 번째 카드 10\n",
      "\"Y\"를 입력하시면 새로운 카드를 받고 \"N\"을 입력하시면 이번 턴은 패스합니다.Y\n",
      "[4, 6, 5, 7, 5, 10, 11, 4]\n",
      "당신의 카드 : [4,6], 현재 스코어 : 52\n",
      "컴퓨터의 첫 번째 카드 10\n",
      "\"Y\"를 입력하시면 새로운 카드를 받고 \"N\"을 입력하시면 이번 턴은 패스합니다.Y\n",
      "[4, 6, 5, 7, 5, 10, 11, 4, 9]\n",
      "당신의 카드 : [4,6], 현재 스코어 : 61\n",
      "컴퓨터의 첫 번째 카드 10\n"
     ]
    }
   ],
   "source": [
    "from art import logo\n",
    "import random as rd\n",
    "\n",
    "\n",
    "\n",
    "\n",
    "def bjLogic() :\n",
    "    cards = [11,2,3,4,5,6,7,8,9,10,10,10,10]\n",
    "    player_cards = rd.sample(cards, 2)  \n",
    "    diller_cards = rd.sample(cards, 2)\n",
    "    print(logo)\n",
    "    while(True) :\n",
    "        print(f'당신의 카드 : [{player_cards[0]},{player_cards[1]}], 현재 스코어 : {sum(player_cards)}')\n",
    "        print(f'컴퓨터의 첫 번째 카드 {diller_cards[0]}')\n",
    "\n",
    "        if input('\"Y\"를 입력하시면 새로운 카드를 받고 \"N\"을 입력하시면 이번 턴은 패스합니다.') == 'Y':\n",
    "            player_cards.append(rd.sample(cards, 1)[0])\n",
    "            print(player_cards)\n",
    "\n",
    "\n",
    "\n",
    "bjLogic()\n",
    "#if str(input('블랙잭을 시작하시겠습니까? Y/N')) == 'Y' :"
   ]
  },
  {
   "cell_type": "code",
   "execution_count": 39,
   "id": "f4538e0c",
   "metadata": {},
   "outputs": [
    {
     "name": "stdout",
     "output_type": "stream",
     "text": [
      "[5, 3]\n"
     ]
    }
   ],
   "source": [
    "import random\n",
    "\n",
    "# Your list of numbers\n",
    "numbers = [1, 2, 3, 4, 5, 6, 7, 8, 9, 10]\n",
    "\n",
    "# Randomly pick two distinct numbers from the list\n",
    "random_numbers = random.sample(numbers, 2)\n",
    "\n",
    "print(random_numbers)"
   ]
  },
  {
   "cell_type": "code",
   "execution_count": null,
   "id": "2dd54221",
   "metadata": {},
   "outputs": [],
   "source": []
  }
 ],
 "metadata": {
  "kernelspec": {
   "display_name": "Python 3 (ipykernel)",
   "language": "python",
   "name": "python3"
  },
  "language_info": {
   "codemirror_mode": {
    "name": "ipython",
    "version": 3
   },
   "file_extension": ".py",
   "mimetype": "text/x-python",
   "name": "python",
   "nbconvert_exporter": "python",
   "pygments_lexer": "ipython3",
   "version": "3.11.3"
  }
 },
 "nbformat": 4,
 "nbformat_minor": 5
}
