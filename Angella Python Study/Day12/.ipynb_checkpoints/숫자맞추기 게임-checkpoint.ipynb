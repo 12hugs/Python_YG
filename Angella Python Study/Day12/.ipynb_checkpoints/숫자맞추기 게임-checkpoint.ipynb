{
 "cells": [
  {
   "cell_type": "code",
   "execution_count": 52,
   "id": "86e145b1",
   "metadata": {},
   "outputs": [
    {
     "name": "stdout",
     "output_type": "stream",
     "text": [
      "-숫자맞추기 게임-\n",
      "1부터 100까지의 숫자 중 정답이 있습니다.\n",
      "난이도 선택 : 'hard(목숨5개)', easy(목숨10개)hard\n",
      "정답이라 생각되는 숫자를 입력해주세요. 1\n",
      "정답은 더 높습니다!\n",
      "앞으로 4번의 기회가 남아 있습니다.\n",
      "\n",
      "정답이라 생각되는 숫자를 입력해주세요. 2\n",
      "정답은 더 높습니다!\n",
      "앞으로 3번의 기회가 남아 있습니다.\n",
      "\n",
      "정답이라 생각되는 숫자를 입력해주세요. 3\n",
      "정답은 더 높습니다!\n",
      "앞으로 2번의 기회가 남아 있습니다.\n",
      "\n",
      "정답이라 생각되는 숫자를 입력해주세요. 4\n",
      "정답은 더 높습니다!\n",
      "앞으로 1번의 기회가 남아 있습니다.\n",
      "\n",
      "정답이라 생각되는 숫자를 입력해주세요. 5\n",
      "정답은 더 높습니다!\n",
      "정답은 53였습니다..\n",
      "목숨이 없습니다. 게임종료.\n"
     ]
    }
   ],
   "source": [
    "# 숫자 추측 게임 목표:\n",
    "import random as rd\n",
    "\n",
    "def rd_num() :\n",
    "    \"\"\"1~100까지 랜덤한 숫자 하나를 리턴함.\"\"\"\n",
    "    num_list = []\n",
    "    for i in range(100):\n",
    "        num_list.append(i+1)\n",
    "    return rd.choice(num_list)\n",
    "\n",
    "print(\"-숫자맞추기 게임-\")\n",
    "print(\"1부터 100까지의 숫자 중 정답이 있습니다.\")\n",
    "hart = 0\n",
    "if input(\"난이도 선택 : 'hard(목숨5개)', easy(목숨10개)\") == 'hard' :\n",
    "    hart += 5\n",
    "else :\n",
    "    hart += 10\n",
    "correct = rd_num()\n",
    "while(True):\n",
    "    choice = int(input('정답이라 생각되는 숫자를 입력해주세요. '))\n",
    "    if  choice > correct :\n",
    "        print('정답은 더 낮습니다.')\n",
    "        hart -= 1\n",
    "    elif choice < correct :\n",
    "        print('정답은 더 높습니다!')\n",
    "        hart -= 1\n",
    "    else :\n",
    "        print('정답! 게임을 종료합니다.')\n",
    "        break\n",
    "        \n",
    "    if hart == 0 :\n",
    "        print()\n",
    "        print(f\"정답은 {correct}였습니다..\")\n",
    "        print('목숨이 없습니다. 게임종료.')\n",
    "        break\n",
    "        \n",
    "    print(f\"앞으로 {hart}번의 기회가 남아 있습니다.\", end='\\n\\n')"
   ]
  },
  {
   "cell_type": "code",
   "execution_count": null,
   "id": "8485a0c1",
   "metadata": {},
   "outputs": [],
   "source": []
  }
 ],
 "metadata": {
  "kernelspec": {
   "display_name": "Python 3 (ipykernel)",
   "language": "python",
   "name": "python3"
  },
  "language_info": {
   "codemirror_mode": {
    "name": "ipython",
    "version": 3
   },
   "file_extension": ".py",
   "mimetype": "text/x-python",
   "name": "python",
   "nbconvert_exporter": "python",
   "pygments_lexer": "ipython3",
   "version": "3.11.4"
  }
 },
 "nbformat": 4,
 "nbformat_minor": 5
}
